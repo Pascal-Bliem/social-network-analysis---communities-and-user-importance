{
 "cells": [
  {
   "cell_type": "markdown",
   "metadata": {},
   "source": [
    "# Generating test graphs with NetwrokX\n",
    "\n",
    "Since it is important to not only check that my code is but also have a look at the performance, it would be ideal to generate some example graphs with varying amounts of nodes and edges. Luckily, the NetwrokX library provides the functionality to create random graphs with different properties."
   ]
  },
  {
   "cell_type": "markdown",
   "metadata": {},
   "source": [
    "#### Generating graphs for testing algorithm performance"
   ]
  },
  {
   "cell_type": "code",
   "execution_count": 2,
   "metadata": {},
   "outputs": [],
   "source": [
    "import networkx as nx"
   ]
  },
  {
   "cell_type": "code",
   "execution_count": 3,
   "metadata": {},
   "outputs": [],
   "source": [
    "# create 10 graphs with different amount of nodes and edges for performance testing \n",
    "for i,x in enumerate(range(100,3001,100)):\n",
    "    G = nx.fast_gnp_random_graph(n=x, p=0.01, seed=123456, directed=True)\n",
    "    \n",
    "    path = \"TestPerformance{}.txt\".format(x)\n",
    "    nx.write_edgelist(G, path, comments='#', delimiter=' ', data=False, encoding='utf-8')\n",
    "    \n",
    "    with open(\"graphs.text\",\"a+\") as file:\n",
    "        file.write(\"{},{},{}\\n\".format(len(G.nodes()),len(G.edges()),\n",
    "                                       len(G.nodes())+len(G.edges())))\n",
    "    \n",
    "    "
   ]
  },
  {
   "cell_type": "code",
   "execution_count": null,
   "metadata": {},
   "outputs": [],
   "source": []
  }
 ],
 "metadata": {
  "kernelspec": {
   "display_name": "Python 3",
   "language": "python",
   "name": "python3"
  },
  "language_info": {
   "codemirror_mode": {
    "name": "ipython",
    "version": 3
   },
   "file_extension": ".py",
   "mimetype": "text/x-python",
   "name": "python",
   "nbconvert_exporter": "python",
   "pygments_lexer": "ipython3",
   "version": "3.7.3"
  }
 },
 "nbformat": 4,
 "nbformat_minor": 2
}
