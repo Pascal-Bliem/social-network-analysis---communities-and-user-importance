{
 "cells": [
  {
   "cell_type": "markdown",
   "metadata": {},
   "source": [
    "# Generating test graphs with NetwrokX\n",
    "\n",
    "Since it is always important to check that my code does not only run but also give the right results, it would be ideal to generate some example graphs for wwhich the quantaties of interest (in-degree centrality, Page-Rank score, strongly connected components) are known. Luckily, the NetwrokX library provides the functionality to create random graphs and calculate their properties."
   ]
  },
  {
   "cell_type": "markdown",
   "metadata": {},
   "source": [
    "#### Generating graphs for testing my graph data structure and algorithms for calculating in-degree centrality and Page-Rank score"
   ]
  },
  {
   "cell_type": "code",
   "execution_count": 1,
   "metadata": {},
   "outputs": [],
   "source": [
    "import numpy as np\n",
    "import pandas as pd\n",
    "import networkx as nx\n",
    "import itertools\n",
    "\n",
    "# create 2 test examples with 200 and 2000 nodes respectively\n",
    "for i in [200,2000]:\n",
    "    \n",
    "    # create a rendom graph with i nodes and probability of edge formation of p=0.15\n",
    "    G = nx.fast_gnp_random_graph(n=i, p=0.15, seed=123456, directed=True)\n",
    "    \n",
    "    path = \"TestGraph{}.txt\".format(i)\n",
    "    nx.write_edgelist(G, path, comments='#', delimiter=' ', data=False, encoding='utf-8')\n",
    "    \n",
    "    # calculate in-degree centrality and write to file\n",
    "    idcs = nx.in_degree_centrality(G)\n",
    "    file = open (\"idc{}.txt\".format(i),\"w\")\n",
    "    for v in idcs.keys():\n",
    "        file.write(str(v)+\" \"+str(idcs[v])+\"\\n\")\n",
    "    file.close()\n",
    "    \n",
    "    # calculate pagerank scores and write to file\n",
    "    prs = nx.pagerank(G, alpha=0.85, personalization=None, max_iter=100, tol=1e-08, nstart=None, weight=None, dangling=None)\n",
    "    file = open (\"pr{}.txt\".format(i),\"w\")\n",
    "    for v in prs.keys():\n",
    "        file.write(str(v)+\" \"+str(prs[v])+\"\\n\")\n",
    "    file.close()\n",
    "    "
   ]
  },
  {
   "cell_type": "markdown",
   "metadata": {},
   "source": [
    "#### Generating graphs for testing the Tarjan algorithm for fnding strongly connected components (SCC)"
   ]
  },
  {
   "cell_type": "code",
   "execution_count": 2,
   "metadata": {},
   "outputs": [],
   "source": [
    "# create 2 test examples for SCC detection with p=0.015 and p=0.01 respectively\n",
    "for p in [0.015,0.01]:\n",
    "    G = nx.fast_gnp_random_graph(n=200, p=p, seed=123456, directed=True)\n",
    "    path = \"TestGraph{}.txt\".format(p)\n",
    "    nx.write_edgelist(G, path, comments='#', delimiter=' ', data=False, encoding='utf-8')\n",
    "    \n",
    "    file = open (\"scc{}.txt\".format(p),\"w\")\n",
    "    for scc in list(nx.strongly_connected_components(G)):\n",
    "        s = \"\"\n",
    "        for v in scc:\n",
    "            s += str(v)+\" \"\n",
    "        file.write(s[:-1]+\"\\n\")\n",
    "    file.close()"
   ]
  },
  {
   "cell_type": "markdown",
   "metadata": {},
   "source": [
    "#### Generating graphs, shortest path lists, and edge betweennness centrality list for testing the algorithm for finding all possible shortest paths and edge betweenness centrality (EBC)"
   ]
  },
  {
   "cell_type": "code",
   "execution_count": 3,
   "metadata": {},
   "outputs": [],
   "source": [
    "# create a graph with 50 nodes again, but this time with undirected edges\n",
    "G = nx.fast_gnp_random_graph(n=50, p=0.1, seed=123456, directed=False)\n",
    "# write to file\n",
    "path = \"TestGraphSP50.txt\"\n",
    "nx.write_edgelist(G, path, comments='#', delimiter=' ', data=False, encoding='utf-8')"
   ]
  },
  {
   "cell_type": "code",
   "execution_count": 4,
   "metadata": {},
   "outputs": [
    {
     "name": "stdout",
     "output_type": "stream",
     "text": [
      "Is connected: True\n",
      "Nodes: 50\n",
      "Edges: 132\n"
     ]
    }
   ],
   "source": [
    "# this graph is connected\n",
    "print(\"Is connected: {}\".format(nx.is_connected(G)))\n",
    "print(\"Nodes: {}\".format(len(G.nodes())))\n",
    "print(\"Edges: {}\".format(len(G.edges())))"
   ]
  },
  {
   "cell_type": "code",
   "execution_count": 5,
   "metadata": {},
   "outputs": [],
   "source": [
    "# extract all shortest paths for all possible node combinatins and write them to a file\n",
    "# only counting each path one way\n",
    "allPaths = []\n",
    "file = open (\"SP50.txt\",\"w\")\n",
    "i_range = list(range(len(G.nodes())))\n",
    "j_range = list(range(len(G.nodes())))\n",
    "              \n",
    "for i in i_range:\n",
    "    j_range.remove(i)\n",
    "    for j in j_range:\n",
    "        for path in [p for p in nx.all_shortest_paths(G,source=i,target=j)]:\n",
    "            s=\"\"\n",
    "            for node in path:\n",
    "                s += str(node) + \" \"\n",
    "            file.write(s[:-1]+\"\\n\")\n",
    "file.close()"
   ]
  },
  {
   "cell_type": "code",
   "execution_count": 6,
   "metadata": {},
   "outputs": [],
   "source": [
    "EDC = nx.edge_betweenness_centrality(G, normalized=False)\n",
    "file = open (\"EBC50.txt\",\"w\")\n",
    "for k in EDC.keys():\n",
    "    file.write(str(k[0])+\" \"+str(k[1])+\" \"+str(EDC[k])+\"\\n\")\n",
    "file.close()"
   ]
  },
  {
   "cell_type": "markdown",
   "metadata": {},
   "source": [
    "#### Generating graphs for testing the Girvan Newman algorithm for community detection"
   ]
  },
  {
   "cell_type": "code",
   "execution_count": 7,
   "metadata": {},
   "outputs": [
    {
     "name": "stdout",
     "output_type": "stream",
     "text": [
      "nodes before  200\n",
      "egdes before  604\n",
      "SCCs before  24\n",
      "nodes after  177\n",
      "edges after  544\n",
      "SCCs after  1\n"
     ]
    }
   ],
   "source": [
    "# make a test graph again\n",
    "G = nx.fast_gnp_random_graph(n=200, p=0.015, seed=123456, directed=True)\n",
    "print(\"nodes before \",len(G.nodes()))\n",
    "print(\"egdes before \",len(G.edges()))\n",
    "print(\"SCCs before \",len(sorted(nx.strongly_connected_components(G),key=len,reverse=True)))\n",
    "path = \"TestGraphGN200.txt\"\n",
    "nx.write_edgelist(G, path, comments='#', delimiter=' ', data=False, encoding='utf-8')\n",
    "# get all but the largest scc\n",
    "smallSCCs = sorted(nx.strongly_connected_components(G),key=len,reverse=True)[1:]\n",
    "for scc in smallSCCs:\n",
    "    for n in scc:\n",
    "        G.remove_node(n)\n",
    "print(\"nodes after \",len(G.nodes()))\n",
    "print(\"edges after \",len(G.edges()))\n",
    "print(\"SCCs after \",len(sorted(nx.strongly_connected_components(G),key=len,reverse=True)))\n"
   ]
  },
  {
   "cell_type": "code",
   "execution_count": 8,
   "metadata": {},
   "outputs": [
    {
     "name": "stdout",
     "output_type": "stream",
     "text": [
      "Communities found 2\n",
      " \n",
      "Commmunity 1 has 174 members\n",
      "Commmunity 2 has 3 members\n",
      "\n",
      "\n",
      "Communities found 3\n",
      " \n",
      "Commmunity 1 has 171 members\n",
      "Commmunity 2 has 3 members\n",
      "Commmunity 3 has 3 members\n",
      "\n",
      "\n",
      "Communities found 4\n",
      " \n",
      "Commmunity 1 has 169 members\n",
      "Commmunity 2 has 3 members\n",
      "Commmunity 3 has 3 members\n",
      "Commmunity 4 has 2 members\n",
      "\n",
      "\n"
     ]
    }
   ],
   "source": [
    "comp = nx.algorithms.community.centrality.girvan_newman(G)\n",
    "k = 3\n",
    "for i, communities in enumerate(itertools.islice(comp, k)):\n",
    "    print(\"Communities found {}\\n \".format(len(communities)))\n",
    "    for j, c in enumerate(communities):\n",
    "        print(\"Commmunity {} has {} members\".format(j+1,len(c))) \n",
    "    print(\"\\n\")\n"
   ]
  }
 ],
 "metadata": {
  "kernelspec": {
   "display_name": "Python 3",
   "language": "python",
   "name": "python3"
  },
  "language_info": {
   "codemirror_mode": {
    "name": "ipython",
    "version": 3
   },
   "file_extension": ".py",
   "mimetype": "text/x-python",
   "name": "python",
   "nbconvert_exporter": "python",
   "pygments_lexer": "ipython3",
   "version": "3.7.3"
  }
 },
 "nbformat": 4,
 "nbformat_minor": 2
}
